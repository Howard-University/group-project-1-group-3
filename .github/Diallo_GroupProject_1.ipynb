{
 "cells": [
  {
   "cell_type": "markdown",
   "id": "ed8435c9-fe51-457b-9f03-a24cbf325689",
   "metadata": {},
   "source": [
    "Leila Diallo\n",
    "@03111898\n",
    "Group Project 1"
   ]
  },
  {
   "cell_type": "code",
   "execution_count": 4,
   "id": "5ffa1338-05ad-470f-b26d-2dde24068c4c",
   "metadata": {},
   "outputs": [],
   "source": [
    "import numpy as np\n",
    "import pandas as pd"
   ]
  },
  {
   "cell_type": "code",
   "execution_count": 6,
   "id": "7ed42fc6-037b-4288-8c98-f9093b2c1eda",
   "metadata": {},
   "outputs": [
    {
     "name": "stdout",
     "output_type": "stream",
     "text": [
      "                    species  length  weight  w_l_ratio\n",
      "0        Anabas testudineus   10.66    3.45       0.32\n",
      "1        Anabas testudineus    6.91    3.27       0.47\n",
      "2        Anabas testudineus    8.38    3.46       0.41\n",
      "3        Anabas testudineus    7.57    3.36       0.44\n",
      "4        Anabas testudineus   10.83    3.38       0.31\n",
      "...                     ...     ...     ...        ...\n",
      "4075  Sillaginopsis panijus   30.56    6.12       0.20\n",
      "4076  Sillaginopsis panijus   29.66    6.11       0.21\n",
      "4077  Sillaginopsis panijus   32.81    6.25       0.19\n",
      "4078  Sillaginopsis panijus   29.78    6.11       0.21\n",
      "4079  Sillaginopsis panijus   31.62    6.14       0.19\n",
      "\n",
      "[4080 rows x 4 columns]\n"
     ]
    }
   ],
   "source": [
    "df =pd.read_csv('fish_data.csv')\n",
    "print(df)"
   ]
  },
  {
   "cell_type": "markdown",
   "id": "6ac5ade3-a8b0-4a76-ad4b-0283e5f4538e",
   "metadata": {},
   "source": [
    "# My Task: Data Filtering and Selection (Number 5)"
   ]
  },
  {
   "cell_type": "markdown",
   "id": "15591b4b-2e63-4609-8370-e076c601ce86",
   "metadata": {},
   "source": [
    "5. Data Filtering and Selection\n",
    "o Filter the dataset based on conditions. For example:\n",
    "▪ Filter rows where a certain column’s value is greater than a threshold\n",
    "(df[df['column'] > value]).\n",
    "o Use .loc[] and .iloc[] to select specific rows and columns."
   ]
  },
  {
   "cell_type": "code",
   "execution_count": 21,
   "id": "3af56ac5-2d5b-4d23-bb2d-15bcca045416",
   "metadata": {},
   "outputs": [],
   "source": [
    "filtered_df = df[df['length'] > 5.0] #Filtering the data to only include lengths over a certain number of inches.\n",
    "\n",
    "#Selecting specific rows and columns using .loc[]\n",
    "selected_data_loc = df.loc[0:4, ['length', 'weight']]"
   ]
  },
  {
   "cell_type": "code",
   "execution_count": 30,
   "id": "bdcec41b-3fde-404e-890e-584fec09dae4",
   "metadata": {},
   "outputs": [],
   "source": [
    "#Selecting rows based on index and columns based on index position using .iloc[]\n",
    "selected_data_iloc = df.iloc[0:5, [1, 2]]"
   ]
  },
  {
   "cell_type": "code",
   "execution_count": 26,
   "id": "a77403c8-8ec7-493a-9406-ae94d4cf826a",
   "metadata": {},
   "outputs": [
    {
     "data": {
      "text/html": [
       "<div>\n",
       "<style scoped>\n",
       "    .dataframe tbody tr th:only-of-type {\n",
       "        vertical-align: middle;\n",
       "    }\n",
       "\n",
       "    .dataframe tbody tr th {\n",
       "        vertical-align: top;\n",
       "    }\n",
       "\n",
       "    .dataframe thead th {\n",
       "        text-align: right;\n",
       "    }\n",
       "</style>\n",
       "<table border=\"1\" class=\"dataframe\">\n",
       "  <thead>\n",
       "    <tr style=\"text-align: right;\">\n",
       "      <th></th>\n",
       "      <th>length</th>\n",
       "      <th>weight</th>\n",
       "    </tr>\n",
       "  </thead>\n",
       "  <tbody>\n",
       "    <tr>\n",
       "      <th>0</th>\n",
       "      <td>10.66</td>\n",
       "      <td>3.45</td>\n",
       "    </tr>\n",
       "    <tr>\n",
       "      <th>1</th>\n",
       "      <td>6.91</td>\n",
       "      <td>3.27</td>\n",
       "    </tr>\n",
       "    <tr>\n",
       "      <th>2</th>\n",
       "      <td>8.38</td>\n",
       "      <td>3.46</td>\n",
       "    </tr>\n",
       "    <tr>\n",
       "      <th>3</th>\n",
       "      <td>7.57</td>\n",
       "      <td>3.36</td>\n",
       "    </tr>\n",
       "    <tr>\n",
       "      <th>4</th>\n",
       "      <td>10.83</td>\n",
       "      <td>3.38</td>\n",
       "    </tr>\n",
       "  </tbody>\n",
       "</table>\n",
       "</div>"
      ],
      "text/plain": [
       "   length  weight\n",
       "0   10.66    3.45\n",
       "1    6.91    3.27\n",
       "2    8.38    3.46\n",
       "3    7.57    3.36\n",
       "4   10.83    3.38"
      ]
     },
     "execution_count": 26,
     "metadata": {},
     "output_type": "execute_result"
    }
   ],
   "source": [
    "# Results displayed:\n",
    "filtered_df.head()"
   ]
  },
  {
   "cell_type": "code",
   "execution_count": 32,
   "id": "e8ab3fe8-ec65-46ed-ade8-5ffd274eae6e",
   "metadata": {},
   "outputs": [
    {
     "name": "stdout",
     "output_type": "stream",
     "text": [
      "   length  weight\n",
      "0   10.66    3.45\n",
      "1    6.91    3.27\n",
      "2    8.38    3.46\n",
      "3    7.57    3.36\n",
      "4   10.83    3.38\n"
     ]
    }
   ],
   "source": [
    "print(selected_data_loc)"
   ]
  },
  {
   "cell_type": "code",
   "execution_count": 34,
   "id": "36eed567-2ca0-4696-9c77-91051b076499",
   "metadata": {},
   "outputs": [
    {
     "name": "stdout",
     "output_type": "stream",
     "text": [
      "   length  weight\n",
      "0   10.66    3.45\n",
      "1    6.91    3.27\n",
      "2    8.38    3.46\n",
      "3    7.57    3.36\n",
      "4   10.83    3.38\n"
     ]
    }
   ],
   "source": [
    "print(selected_data_iloc)"
   ]
  },
  {
   "cell_type": "markdown",
   "id": "a11bb2a1-d081-4d15-8abb-9d03cc08b9d8",
   "metadata": {},
   "source": [
    "# My Task: Grouping and Aggregation (Number 7)"
   ]
  },
  {
   "cell_type": "markdown",
   "id": "a37b02bf-4254-418e-bd51-627a8e8f5f8c",
   "metadata": {},
   "source": [
    "7. Grouping and Aggregation\n",
    "o Use groupby() to group data by a categorical column and perform an\n",
    "aggregate operation like sum(), mean(), count().\n",
    "▪ Example: Group by gender and calculate the average salary or scores\n",
    "per group.\n",
    "o Explore various aggregations like min(), max(), mean(), and std()."
   ]
  },
  {
   "cell_type": "code",
   "execution_count": 38,
   "id": "6a40db5c-a25e-4dc6-97ac-c1e70673e1c3",
   "metadata": {},
   "outputs": [
    {
     "name": "stdout",
     "output_type": "stream",
     "text": [
      "Mean values:\n",
      "                            length    weight  w_l_ratio\n",
      "species                                               \n",
      "Anabas testudineus       8.179139  3.271239   0.406176\n",
      "Coilia dussumieri       24.346048  2.747711   0.112988\n",
      "Otolithoides biauritus  18.549893  3.198355   0.173013\n",
      "Otolithoides pama       21.800253  3.849563   0.177149\n",
      "Pethia conchonius        9.604800  4.585453   0.485747\n",
      "Polynemus paradiseus    12.946812  3.989782   0.313231\n",
      "Puntius lateristriga    13.071938  2.632799   0.203254\n",
      "Setipinna taty          17.811833  3.101750   0.174437\n",
      "Sillaginopsis panijus   31.066923  6.143143   0.198264\n",
      "\n",
      "Sum of weights:\n",
      " species\n",
      "Anabas testudineus        1557.11\n",
      "Coilia dussumieri         1140.30\n",
      "Otolithoides biauritus    1496.83\n",
      "Otolithoides pama         1674.56\n",
      "Pethia conchonius         2178.09\n",
      "Polynemus paradiseus      1827.32\n",
      "Puntius lateristriga      1100.51\n",
      "Setipinna taty            1488.84\n",
      "Sillaginopsis panijus     2795.13\n",
      "Name: weight, dtype: float64\n",
      "\n",
      "Fish count:\n",
      "                         length  weight  w_l_ratio\n",
      "species                                          \n",
      "Anabas testudineus         476     476        476\n",
      "Coilia dussumieri          415     415        415\n",
      "Otolithoides biauritus     468     468        468\n",
      "Otolithoides pama          435     435        435\n",
      "Pethia conchonius          475     475        475\n",
      "Polynemus paradiseus       458     458        458\n",
      "Puntius lateristriga       418     418        418\n",
      "Setipinna taty             480     480        480\n",
      "Sillaginopsis panijus      455     455        455\n",
      "\n",
      "Length Aggregations:\n",
      "                           min    max       mean       std\n",
      "species                                                  \n",
      "Anabas testudineus       6.36  11.01   8.179139  1.096871\n",
      "Coilia dussumieri       22.62  25.76  24.346048  0.643148\n",
      "Otolithoides biauritus  15.72  21.95  18.549893  1.273891\n",
      "Otolithoides pama       18.64  24.35  21.800253  1.346260\n",
      "Pethia conchonius        7.10  12.84   9.604800  1.284322\n",
      "Polynemus paradiseus     9.38  16.72  12.946812  1.662945\n",
      "Puntius lateristriga     9.69  15.41  13.071938  1.252124\n",
      "Setipinna taty          15.93  19.48  17.811833  0.757521\n",
      "Sillaginopsis panijus   27.75  33.86  31.066923  1.361024\n"
     ]
    }
   ],
   "source": [
    "# Grouping by species and calculating mean values\n",
    "mean_values = df.groupby('species').mean()\n",
    "\n",
    "# Grouping by species and calculating the sum of weight\n",
    "sum_weights = df.groupby('species')['weight'].sum()\n",
    "\n",
    "# Grouping by species and counting the number of fish in each group\n",
    "fish_count = df.groupby('species').count()\n",
    "\n",
    "# Grouping by species and calculating min, max, and standard deviation for length and weight\n",
    "min_length = df.groupby('species')['length'].min()\n",
    "max_length = df.groupby('species')['length'].max()\n",
    "std_weight = df.groupby('species')['weight'].std()\n",
    "\n",
    "# Performing multiple aggregations on length\n",
    "length_aggregations = df.groupby('species')['length'].agg(['min', 'max', 'mean', 'std'])\n",
    "\n",
    "# Display results\n",
    "print(\"Mean values:\\n\", mean_values)\n",
    "print(\"\\nSum of weights:\\n\", sum_weights)\n",
    "print(\"\\nFish count:\\n\", fish_count)\n",
    "print(\"\\nLength Aggregations:\\n\", length_aggregations)"
   ]
  },
  {
   "cell_type": "code",
   "execution_count": null,
   "id": "0215cac4-c242-4a61-a507-ac9b51e8cbb7",
   "metadata": {},
   "outputs": [],
   "source": []
  }
 ],
 "metadata": {
  "kernelspec": {
   "display_name": "Python 3 (ipykernel)",
   "language": "python",
   "name": "python3"
  },
  "language_info": {
   "codemirror_mode": {
    "name": "ipython",
    "version": 3
   },
   "file_extension": ".py",
   "mimetype": "text/x-python",
   "name": "python",
   "nbconvert_exporter": "python",
   "pygments_lexer": "ipython3",
   "version": "3.12.4"
  }
 },
 "nbformat": 4,
 "nbformat_minor": 5
}
