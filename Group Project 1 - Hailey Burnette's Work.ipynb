{
 "cells": [
  {
   "cell_type": "code",
   "execution_count": 60,
   "id": "f26ac58c-25ac-49fd-9763-62d51f4090e7",
   "metadata": {},
   "outputs": [
    {
     "name": "stdout",
     "output_type": "stream",
     "text": [
      "                    species  length  weight  w_l_ratio\n",
      "0        Anabas testudineus   10.66    3.45       0.32\n",
      "1        Anabas testudineus    6.91    3.27       0.47\n",
      "2        Anabas testudineus    8.38    3.46       0.41\n",
      "3        Anabas testudineus    7.57    3.36       0.44\n",
      "4        Anabas testudineus   10.83    3.38       0.31\n",
      "...                     ...     ...     ...        ...\n",
      "4075  Sillaginopsis panijus   30.56    6.12       0.20\n",
      "4076  Sillaginopsis panijus   29.66    6.11       0.21\n",
      "4077  Sillaginopsis panijus   32.81    6.25       0.19\n",
      "4078  Sillaginopsis panijus   29.78    6.11       0.21\n",
      "4079  Sillaginopsis panijus   31.62    6.14       0.19\n",
      "\n",
      "[4080 rows x 4 columns]\n"
     ]
    }
   ],
   "source": [
    "import pandas as pd\n",
    "import numpy as np\n",
    "df = pd.read_csv('fish_data.csv')\n",
    "print(df)"
   ]
  },
  {
   "cell_type": "markdown",
   "id": "1a5c1df3-c8c7-4f26-bce6-e0218e76ba1c",
   "metadata": {},
   "source": [
    "# Hailey Burnette's Work"
   ]
  },
  {
   "cell_type": "code",
   "execution_count": 61,
   "id": "54b1a20d-cb8b-4b07-b6cc-57d244291a58",
   "metadata": {},
   "outputs": [
    {
     "name": "stdout",
     "output_type": "stream",
     "text": [
      "['Anabas testudineus', 'Coilia dussumieri', 'Otolithoides biauritus', 'Otolithoides pama', 'Pethia conchonius', 'Polynemus paradiseus', 'Puntius lateristriga', 'Setipinna taty', 'Sillaginopsis panijus']\n"
     ]
    }
   ],
   "source": [
    "types_of_species = df['species'].unique()\n",
    "list_of_species_in_dataset = list(types_of_species)\n",
    "print(list_of_species_in_dataset)"
   ]
  },
  {
   "cell_type": "markdown",
   "id": "e9aa3ad1-4ea6-4e2f-86ff-35603c8bade5",
   "metadata": {},
   "source": [
    "### Finding the Mean length of the dataset using Numpy:"
   ]
  },
  {
   "cell_type": "code",
   "execution_count": 78,
   "id": "ba09dede-bd52-43cb-a9af-72b16853d399",
   "metadata": {},
   "outputs": [
    {
     "name": "stdout",
     "output_type": "stream",
     "text": [
      "17.353544117647058\n"
     ]
    }
   ],
   "source": [
    "mean_length = np.mean(df['length'])\n",
    "print(mean_length)"
   ]
  },
  {
   "cell_type": "markdown",
   "id": "11981999-f6e0-4bea-9af5-847daa612d9e",
   "metadata": {},
   "source": [
    "### Finding the Mean weight ratio of the dataset using Numpy:"
   ]
  },
  {
   "cell_type": "code",
   "execution_count": null,
   "id": "344d985c-403e-40f9-9bb5-9caf6e776155",
   "metadata": {},
   "outputs": [],
   "source": [
    "mean_weight = np.mean(df['weight'])\n",
    "print(mean_weight)"
   ]
  },
  {
   "cell_type": "markdown",
   "id": "cae68f9f-d9f9-4c58-9fcb-c81b7afba5d1",
   "metadata": {},
   "source": [
    "### Finding the Mean of the weight:length ratio of the dataset using Numpy:"
   ]
  },
  {
   "cell_type": "code",
   "execution_count": null,
   "id": "65e5135f-00fc-4db3-8f8b-da6b59948758",
   "metadata": {},
   "outputs": [],
   "source": [
    "mean_w_l_ratio = np.mean(df['w_l_ratio'])\n",
    "print(mean_w_l_ratio)"
   ]
  },
  {
   "cell_type": "markdown",
   "id": "cd31f4f0-8ed6-45a4-a186-92412be8ed3f",
   "metadata": {},
   "source": [
    "### Finding the Median of the length of the dataset using Numpy:"
   ]
  },
  {
   "cell_type": "code",
   "execution_count": null,
   "id": "8d5a8bd1-ce3e-480e-a9e4-f2ef8e66e56e",
   "metadata": {},
   "outputs": [],
   "source": [
    "median_length = np.median(df['length'])\n",
    "print(median_length)"
   ]
  },
  {
   "cell_type": "markdown",
   "id": "91d36568-e913-4fd3-a0fc-7919d2ccc959",
   "metadata": {},
   "source": [
    "### Finding the Median of the weight of the dataset using Numpy:"
   ]
  },
  {
   "cell_type": "code",
   "execution_count": null,
   "id": "0d7d7e55-f074-4e8c-935e-4a0c90df7e18",
   "metadata": {},
   "outputs": [],
   "source": [
    "median_weight = np.median(df['weight'])\n",
    "print(median_weight)"
   ]
  },
  {
   "cell_type": "markdown",
   "id": "04c5039b-b2d8-4c9f-bbf7-a02662b1e667",
   "metadata": {},
   "source": [
    "### Finding the Median of the weight:length ratio of the dataset using Numpy:"
   ]
  },
  {
   "cell_type": "code",
   "execution_count": null,
   "id": "62c3a9f1-b97b-45ce-9641-1ec317a906c1",
   "metadata": {},
   "outputs": [],
   "source": [
    "median_w_l_ratio = np.median(df['w_l_ratio'])\n",
    "print(median_w_l_ratio)"
   ]
  },
  {
   "cell_type": "markdown",
   "id": "d4d17b03-c988-44ad-adf1-ca479aaf583b",
   "metadata": {},
   "source": [
    "### Finding the Standard Deviation of the length of the dataset using Numpy:"
   ]
  },
  {
   "cell_type": "code",
   "execution_count": null,
   "id": "3e936a58-eea1-4f79-a0b4-3dcd6c89e4a0",
   "metadata": {},
   "outputs": [],
   "source": [
    "std_length = np.std(df['length'])\n",
    "print(std_length)"
   ]
  },
  {
   "cell_type": "markdown",
   "id": "98a4dadc-c67d-478f-a40c-f98b94cf355c",
   "metadata": {},
   "source": [
    "### Finding the  Standard Deviation of the weight of the dataset using Numpy:"
   ]
  },
  {
   "cell_type": "code",
   "execution_count": null,
   "id": "63b3faab-165c-4a52-9abb-6d74a8e6684a",
   "metadata": {},
   "outputs": [],
   "source": [
    "std_weight = np.std(df['weight'])\n",
    "print(std_weight)"
   ]
  },
  {
   "cell_type": "markdown",
   "id": "bf8fabb2-4f0b-419f-8a35-8a3519d0b9a9",
   "metadata": {},
   "source": [
    "### Finding the Standard Deviation of the weight:length ratio of the dataset using Numpy:"
   ]
  },
  {
   "cell_type": "code",
   "execution_count": null,
   "id": "9ce4a494-d8f1-4d7a-9efc-57fe64533bb9",
   "metadata": {},
   "outputs": [],
   "source": [
    "std_w_l_ratio = np.std(df['weight'])\n",
    "print(std_w_l_ratio)"
   ]
  },
  {
   "cell_type": "markdown",
   "id": "d91f339e-f1bb-41cc-9dd8-b18ade25ad81",
   "metadata": {},
   "source": [
    "### Finding the mean, median, mode and range of the weight:length ratio of the dataset using Basic Operations:"
   ]
  },
  {
   "cell_type": "code",
   "execution_count": null,
   "id": "2ebc2a46-ed21-47e0-a642-6988f1ca7c9b",
   "metadata": {},
   "outputs": [],
   "source": [
    "mean_w_l_ratio=df['w_l_ratio'].mean()\n",
    "print(f'The mean length is: {mean_w_l_ratio}.')"
   ]
  },
  {
   "cell_type": "code",
   "execution_count": null,
   "id": "3b22fedf-4052-42b7-9941-304d52f810d9",
   "metadata": {},
   "outputs": [],
   "source": [
    "median_w_l_ratio=df['w_l_ratio'].median()\n",
    "print(f'The median length is: {median_w_l_ratio}.')"
   ]
  },
  {
   "cell_type": "code",
   "execution_count": null,
   "id": "87ef10c9-967e-451f-bbb3-05ff2a7173d9",
   "metadata": {},
   "outputs": [],
   "source": [
    "mode_w_l_ratio=df['w_l_ratio'].mode()\n",
    "print(f'The median length is: {mode_w_l_ratio}.')"
   ]
  },
  {
   "cell_type": "code",
   "execution_count": null,
   "id": "86714ebc-539f-4ecb-9a30-34dccf00e0ff",
   "metadata": {},
   "outputs": [],
   "source": [
    "range_w_l_ratio = df['w_l_ratio'].max() - df['w_l_ratio'].min()\n",
    "print(f'The range of the weight length ratio is: {range_w_l_ratio}.')"
   ]
  },
  {
   "cell_type": "markdown",
   "id": "ce653fd9-6d28-49d2-b300-231c78eda794",
   "metadata": {},
   "source": [
    "### Finding the mean, median, mode and range of the length of the dataset using Basic Operations:"
   ]
  },
  {
   "cell_type": "code",
   "execution_count": null,
   "id": "ede4097f-1eb0-4521-ae31-d77b7cfdbf67",
   "metadata": {},
   "outputs": [],
   "source": [
    "meanlength=df['length'].mean()\n",
    "print(f'The mean length is: {meanlength}.')"
   ]
  },
  {
   "cell_type": "code",
   "execution_count": null,
   "id": "c7b5cc70-13f6-4161-8744-67b8ab808845",
   "metadata": {},
   "outputs": [],
   "source": [
    "medianlength=df['length'].median()\n",
    "print(f'The median length is: {medianlength}.')"
   ]
  },
  {
   "cell_type": "code",
   "execution_count": null,
   "id": "79bdf2d4-7a21-4b53-ae62-541462c92df4",
   "metadata": {},
   "outputs": [],
   "source": [
    "modelength=df['length'].mode()\n",
    "print(f'The mode length is: {modelength}.')"
   ]
  },
  {
   "cell_type": "code",
   "execution_count": null,
   "id": "52ad9296-b931-4d6e-80e5-4ab0b4c553a8",
   "metadata": {},
   "outputs": [],
   "source": [
    "rangelength = df['length'].max() - df['length'].min()\n",
    "print(f'The range of weight is: {rangelength}.')"
   ]
  },
  {
   "cell_type": "markdown",
   "id": "af7d3c0f-879f-458b-83da-e2091f688235",
   "metadata": {},
   "source": [
    "### Finding the mean, median, mode and range of the weight of the dataset using Basic Operations:"
   ]
  },
  {
   "cell_type": "code",
   "execution_count": null,
   "id": "fc6e1a9f-732c-4161-a8a6-00ebc97d6794",
   "metadata": {},
   "outputs": [],
   "source": [
    "meanweight=df['weight'].mean()\n",
    "print(f'The mean weight is: {meanweight}.')"
   ]
  },
  {
   "cell_type": "code",
   "execution_count": null,
   "id": "4989bd2c-4e0d-43bf-b3aa-20e3f23013d7",
   "metadata": {},
   "outputs": [],
   "source": [
    "medianweight=df['weight'].median()\n",
    "print(f'The median weight is: {medianweight}.')"
   ]
  },
  {
   "cell_type": "code",
   "execution_count": null,
   "id": "52ec1f53-2f46-420d-9a2c-7e96403bdd54",
   "metadata": {},
   "outputs": [],
   "source": [
    "modeweight=df['weight'].mode()\n",
    "print(f'The mode weight is: {modeweight}.')"
   ]
  },
  {
   "cell_type": "code",
   "execution_count": null,
   "id": "1d6e6f95-da02-4415-a1b0-7f2b41a324c8",
   "metadata": {},
   "outputs": [],
   "source": [
    "rangeweight = df['weight'].max() - df['weight'].min()\n",
    "print(f'The range of weight is: {rangeweight}.')"
   ]
  },
  {
   "cell_type": "markdown",
   "id": "f29a2854-3706-4f83-a0d8-b20b9e898365",
   "metadata": {},
   "source": [
    "### Finding the mean weight per species to indentify the heaviest and lightest fish of the dataset:"
   ]
  },
  {
   "cell_type": "code",
   "execution_count": null,
   "id": "437dc17f-f00b-4a4a-8ead-52c376ef95b4",
   "metadata": {},
   "outputs": [],
   "source": [
    "mean_weight_per_species = df.groupby('species')['weight'].mean()\n",
    "print(mean_weight_per_species)"
   ]
  },
  {
   "cell_type": "markdown",
   "id": "59979c58-fc0d-4292-aa4b-c8930efab8be",
   "metadata": {},
   "source": [
    "### Finding the mean weight:length ratio per species to indentify the skinniest and stoutest fish of the dataset:"
   ]
  },
  {
   "cell_type": "code",
   "execution_count": null,
   "id": "aceefac3-4e10-4545-a6ba-8927badc35fb",
   "metadata": {},
   "outputs": [],
   "source": [
    "mean_w_l_ratio_per_species = df.groupby('species')['w_l_ratio'].mean()\n",
    "print(mean_w_l_ratio_per_species)"
   ]
  },
  {
   "cell_type": "markdown",
   "id": "3031daf0-d316-4e0e-bd8c-8e50d1edc0b6",
   "metadata": {},
   "source": [
    "### Finding the mean length per species to identify the longest and shortest fish of the dataset:"
   ]
  },
  {
   "cell_type": "code",
   "execution_count": null,
   "id": "476dc7c8-2c9e-47cf-86ef-356bec6c4a39",
   "metadata": {},
   "outputs": [],
   "source": [
    "mean_length_per_species = df.groupby('species')['length'].mean()\n",
    "print(mean_length_per_species)"
   ]
  },
  {
   "cell_type": "code",
   "execution_count": null,
   "id": "d1a58bc1-abc2-4af7-93da-7bec5d2f2297",
   "metadata": {},
   "outputs": [],
   "source": [
    "median_length_per_species = df.groupby('species')['length'].median()\n",
    "print(median_length_per_species)"
   ]
  },
  {
   "cell_type": "markdown",
   "id": "7a61d44c-aefb-4907-afa1-4774924a54c7",
   "metadata": {},
   "source": [
    "### Data visualization to show results of the data:"
   ]
  },
  {
   "cell_type": "code",
   "execution_count": null,
   "id": "40897630-774e-4095-8e17-523dd5c22052",
   "metadata": {},
   "outputs": [],
   "source": [
    "import matplotlib.pyplot as plt"
   ]
  },
  {
   "cell_type": "code",
   "execution_count": null,
   "id": "5adcf451-3675-45f7-8f8f-01ca4d9f6676",
   "metadata": {},
   "outputs": [],
   "source": [
    "mean_weight_per_species = df.groupby('species')['weight'].mean().reset_index()"
   ]
  },
  {
   "cell_type": "code",
   "execution_count": null,
   "id": "0a241c86-e21c-40e6-bcbb-d5df77506afb",
   "metadata": {},
   "outputs": [],
   "source": [
    "plt.bar(mean_weight_per_species['species'], mean_weight_per_species['weight'], edgecolor='black')\n",
    "plt.xticks(rotation=90)\n",
    "plt.xlabel('Species')\n",
    "plt.ylabel('Average Weight in Grams')\n",
    "plt.title('Average Weight per Fish Species')\n",
    "plt.show()"
   ]
  },
  {
   "cell_type": "code",
   "execution_count": null,
   "id": "a8dce655-3336-4c92-aeec-eb896ef3b189",
   "metadata": {},
   "outputs": [],
   "source": [
    "mean_length_per_species = df.groupby('species')['length'].mean().reset_index()"
   ]
  },
  {
   "cell_type": "code",
   "execution_count": null,
   "id": "276c341b-71fa-47cb-ad6f-ad87713b36e9",
   "metadata": {},
   "outputs": [],
   "source": [
    "plt.bar(mean_length_per_species['species'], mean_length_per_species['length'], edgecolor='black')\n",
    "plt.xticks(rotation=90)\n",
    "plt.xlabel('Species')\n",
    "plt.ylabel('Average Length in Centimeters')\n",
    "plt.title('Average Length per Fish Species')\n",
    "plt.show()"
   ]
  },
  {
   "cell_type": "code",
   "execution_count": null,
   "id": "e0314fad-4e4e-43d0-b1c3-cce247960745",
   "metadata": {},
   "outputs": [],
   "source": [
    "mean_weight_length_ratio_per_species = df.groupby('species')['w_l_ratio'].mean().reset_index()"
   ]
  },
  {
   "cell_type": "code",
   "execution_count": null,
   "id": "c27017ac-c899-4999-881f-f16f2822fe5f",
   "metadata": {},
   "outputs": [],
   "source": [
    "plt.bar(mean_weight_length_ratio_per_species['species'], mean_weight_length_ratio_per_species['w_l_ratio'], edgecolor='black')\n",
    "plt.xticks(rotation=90)\n",
    "plt.xlabel('Species')\n",
    "plt.ylabel('Average Weight:Length Ratio')\n",
    "plt.title('Average Weight:Length Ratio per Fish Species')\n",
    "plt.show()"
   ]
  },
  {
   "cell_type": "code",
   "execution_count": null,
   "id": "e9fc3d8f-664c-4862-b258-8e537092f1c9",
   "metadata": {},
   "outputs": [],
   "source": [
    "# Short report on the findings of the data:\n",
    "Data Manipulation:\n",
    "Sorting and ranking by largest and smallest per type of quantitative data to see the largest and smalle\n",
    "Findings:\n",
    "Mean of length: 17.35 cm\n",
    "Mean of weight: 3.79 g\n",
    "Mean of l : w ratio: 0.25\n",
    "Largest fish by length: Sillaginopsis panijus at 31.07 cm\n",
    "Smallest fish by length: Anabas testudineus at 8.18 cm\n",
    "Largest fish by weight: Sillaginopsis panijus at 6.14 g\n",
    "Smallest fish by weight: Puntius lateristriga at 2.63 g\n",
    "Largest fish by l : w ratio: Pethia conchonius at 0.49\n",
    "Smallest fish by l : w ratio: Coilia dussumieri at 0.11"
   ]
  }
 ],
 "metadata": {
  "kernelspec": {
   "display_name": "Python 3 (ipykernel)",
   "language": "python",
   "name": "python3"
  },
  "language_info": {
   "codemirror_mode": {
    "name": "ipython",
    "version": 3
   },
   "file_extension": ".py",
   "mimetype": "text/x-python",
   "name": "python",
   "nbconvert_exporter": "python",
   "pygments_lexer": "ipython3",
   "version": "3.12.4"
  }
 },
 "nbformat": 4,
 "nbformat_minor": 5
}
