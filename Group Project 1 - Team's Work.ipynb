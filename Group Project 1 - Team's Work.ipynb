{
 "cells": [
  {
   "cell_type": "code",
   "execution_count": 1,
   "id": "f26ac58c-25ac-49fd-9763-62d51f4090e7",
   "metadata": {},
   "outputs": [
    {
     "name": "stdout",
     "output_type": "stream",
     "text": [
      "                    species  length  weight  w_l_ratio\n",
      "0        Anabas testudineus   10.66    3.45       0.32\n",
      "1        Anabas testudineus    6.91    3.27       0.47\n",
      "2        Anabas testudineus    8.38    3.46       0.41\n",
      "3        Anabas testudineus    7.57    3.36       0.44\n",
      "4        Anabas testudineus   10.83    3.38       0.31\n",
      "...                     ...     ...     ...        ...\n",
      "4075  Sillaginopsis panijus   30.56    6.12       0.20\n",
      "4076  Sillaginopsis panijus   29.66    6.11       0.21\n",
      "4077  Sillaginopsis panijus   32.81    6.25       0.19\n",
      "4078  Sillaginopsis panijus   29.78    6.11       0.21\n",
      "4079  Sillaginopsis panijus   31.62    6.14       0.19\n",
      "\n",
      "[4080 rows x 4 columns]\n"
     ]
    }
   ],
   "source": [
    "import pandas as pd\n",
    "import numpy as np\n",
    "df = pd.read_csv('fish_data.csv')\n",
    "print(df)"
   ]
  },
  {
   "cell_type": "code",
   "execution_count": 2,
   "id": "d08fae68-cdb7-49d0-a016-ce9ff92728b3",
   "metadata": {},
   "outputs": [],
   "source": [
    "# Cristian Simms' Work"
   ]
  },
  {
   "cell_type": "code",
   "execution_count": 3,
   "id": "eac5e58d-de3b-4b5c-a8c9-de897797bc83",
   "metadata": {},
   "outputs": [
    {
     "data": {
      "text/html": [
       "<div>\n",
       "<style scoped>\n",
       "    .dataframe tbody tr th:only-of-type {\n",
       "        vertical-align: middle;\n",
       "    }\n",
       "\n",
       "    .dataframe tbody tr th {\n",
       "        vertical-align: top;\n",
       "    }\n",
       "\n",
       "    .dataframe thead th {\n",
       "        text-align: right;\n",
       "    }\n",
       "</style>\n",
       "<table border=\"1\" class=\"dataframe\">\n",
       "  <thead>\n",
       "    <tr style=\"text-align: right;\">\n",
       "      <th></th>\n",
       "      <th>species</th>\n",
       "      <th>length</th>\n",
       "      <th>weight</th>\n",
       "      <th>w_l_ratio</th>\n",
       "    </tr>\n",
       "  </thead>\n",
       "  <tbody>\n",
       "    <tr>\n",
       "      <th>0</th>\n",
       "      <td>False</td>\n",
       "      <td>False</td>\n",
       "      <td>False</td>\n",
       "      <td>False</td>\n",
       "    </tr>\n",
       "    <tr>\n",
       "      <th>1</th>\n",
       "      <td>False</td>\n",
       "      <td>False</td>\n",
       "      <td>False</td>\n",
       "      <td>False</td>\n",
       "    </tr>\n",
       "    <tr>\n",
       "      <th>2</th>\n",
       "      <td>False</td>\n",
       "      <td>False</td>\n",
       "      <td>False</td>\n",
       "      <td>False</td>\n",
       "    </tr>\n",
       "    <tr>\n",
       "      <th>3</th>\n",
       "      <td>False</td>\n",
       "      <td>False</td>\n",
       "      <td>False</td>\n",
       "      <td>False</td>\n",
       "    </tr>\n",
       "    <tr>\n",
       "      <th>4</th>\n",
       "      <td>False</td>\n",
       "      <td>False</td>\n",
       "      <td>False</td>\n",
       "      <td>False</td>\n",
       "    </tr>\n",
       "    <tr>\n",
       "      <th>...</th>\n",
       "      <td>...</td>\n",
       "      <td>...</td>\n",
       "      <td>...</td>\n",
       "      <td>...</td>\n",
       "    </tr>\n",
       "    <tr>\n",
       "      <th>4075</th>\n",
       "      <td>False</td>\n",
       "      <td>False</td>\n",
       "      <td>False</td>\n",
       "      <td>False</td>\n",
       "    </tr>\n",
       "    <tr>\n",
       "      <th>4076</th>\n",
       "      <td>False</td>\n",
       "      <td>False</td>\n",
       "      <td>False</td>\n",
       "      <td>False</td>\n",
       "    </tr>\n",
       "    <tr>\n",
       "      <th>4077</th>\n",
       "      <td>False</td>\n",
       "      <td>False</td>\n",
       "      <td>False</td>\n",
       "      <td>False</td>\n",
       "    </tr>\n",
       "    <tr>\n",
       "      <th>4078</th>\n",
       "      <td>False</td>\n",
       "      <td>False</td>\n",
       "      <td>False</td>\n",
       "      <td>False</td>\n",
       "    </tr>\n",
       "    <tr>\n",
       "      <th>4079</th>\n",
       "      <td>False</td>\n",
       "      <td>False</td>\n",
       "      <td>False</td>\n",
       "      <td>False</td>\n",
       "    </tr>\n",
       "  </tbody>\n",
       "</table>\n",
       "<p>4080 rows × 4 columns</p>\n",
       "</div>"
      ],
      "text/plain": [
       "      species  length  weight  w_l_ratio\n",
       "0       False   False   False      False\n",
       "1       False   False   False      False\n",
       "2       False   False   False      False\n",
       "3       False   False   False      False\n",
       "4       False   False   False      False\n",
       "...       ...     ...     ...        ...\n",
       "4075    False   False   False      False\n",
       "4076    False   False   False      False\n",
       "4077    False   False   False      False\n",
       "4078    False   False   False      False\n",
       "4079    False   False   False      False\n",
       "\n",
       "[4080 rows x 4 columns]"
      ]
     },
     "execution_count": 3,
     "metadata": {},
     "output_type": "execute_result"
    }
   ],
   "source": [
    "df = pd.read_csv('fish_data.csv')\n",
    "df.isnull()"
   ]
  },
  {
   "cell_type": "code",
   "execution_count": 4,
   "id": "5bde4a36-77d8-45fe-98f8-0ff9d8f64bc2",
   "metadata": {},
   "outputs": [
    {
     "data": {
      "text/plain": [
       "species      0\n",
       "length       0\n",
       "weight       0\n",
       "w_l_ratio    0\n",
       "dtype: int64"
      ]
     },
     "execution_count": 4,
     "metadata": {},
     "output_type": "execute_result"
    }
   ],
   "source": [
    "df = pd.read_csv('fish_data.csv')\n",
    "df.isnull().sum()"
   ]
  },
  {
   "cell_type": "markdown",
   "id": "1a5c1df3-c8c7-4f26-bce6-e0218e76ba1c",
   "metadata": {},
   "source": [
    "# Leila Diallo's Work"
   ]
  },
  {
   "cell_type": "code",
   "execution_count": 6,
   "id": "37e2c754-b81c-41d1-9ddf-9bde54217b7d",
   "metadata": {},
   "outputs": [
    {
     "name": "stdout",
     "output_type": "stream",
     "text": [
      "   length  weight\n",
      "0   10.66    3.45\n",
      "1    6.91    3.27\n",
      "2    8.38    3.46\n",
      "3    7.57    3.36\n",
      "4   10.83    3.38\n"
     ]
    }
   ],
   "source": [
    "filtered_df=df[df['length'] > 5.0]\n",
    "selected_data_loc = df.loc[0:4, ['length', 'weight']]\n",
    "print(selected_data_loc)"
   ]
  },
  {
   "cell_type": "code",
   "execution_count": 7,
   "id": "b35818f8-5b13-469b-8181-9575106c61cc",
   "metadata": {},
   "outputs": [
    {
     "name": "stdout",
     "output_type": "stream",
     "text": [
      "   length  weight\n",
      "0   10.66    3.45\n",
      "1    6.91    3.27\n",
      "2    8.38    3.46\n",
      "3    7.57    3.36\n",
      "4   10.83    3.38\n"
     ]
    }
   ],
   "source": [
    "selected_data_iloc = df.iloc[0:5, [1,2]]\n",
    "print(selected_data_iloc)"
   ]
  },
  {
   "cell_type": "code",
   "execution_count": 8,
   "id": "7f787411-972f-4d04-9fcc-2931c20b45a9",
   "metadata": {},
   "outputs": [
    {
     "data": {
      "text/html": [
       "<div>\n",
       "<style scoped>\n",
       "    .dataframe tbody tr th:only-of-type {\n",
       "        vertical-align: middle;\n",
       "    }\n",
       "\n",
       "    .dataframe tbody tr th {\n",
       "        vertical-align: top;\n",
       "    }\n",
       "\n",
       "    .dataframe thead th {\n",
       "        text-align: right;\n",
       "    }\n",
       "</style>\n",
       "<table border=\"1\" class=\"dataframe\">\n",
       "  <thead>\n",
       "    <tr style=\"text-align: right;\">\n",
       "      <th></th>\n",
       "      <th>species</th>\n",
       "      <th>length</th>\n",
       "      <th>weight</th>\n",
       "      <th>w_l_ratio</th>\n",
       "    </tr>\n",
       "  </thead>\n",
       "  <tbody>\n",
       "    <tr>\n",
       "      <th>0</th>\n",
       "      <td>Anabas testudineus</td>\n",
       "      <td>10.66</td>\n",
       "      <td>3.45</td>\n",
       "      <td>0.32</td>\n",
       "    </tr>\n",
       "    <tr>\n",
       "      <th>1</th>\n",
       "      <td>Anabas testudineus</td>\n",
       "      <td>6.91</td>\n",
       "      <td>3.27</td>\n",
       "      <td>0.47</td>\n",
       "    </tr>\n",
       "    <tr>\n",
       "      <th>2</th>\n",
       "      <td>Anabas testudineus</td>\n",
       "      <td>8.38</td>\n",
       "      <td>3.46</td>\n",
       "      <td>0.41</td>\n",
       "    </tr>\n",
       "    <tr>\n",
       "      <th>3</th>\n",
       "      <td>Anabas testudineus</td>\n",
       "      <td>7.57</td>\n",
       "      <td>3.36</td>\n",
       "      <td>0.44</td>\n",
       "    </tr>\n",
       "    <tr>\n",
       "      <th>4</th>\n",
       "      <td>Anabas testudineus</td>\n",
       "      <td>10.83</td>\n",
       "      <td>3.38</td>\n",
       "      <td>0.31</td>\n",
       "    </tr>\n",
       "  </tbody>\n",
       "</table>\n",
       "</div>"
      ],
      "text/plain": [
       "              species  length  weight  w_l_ratio\n",
       "0  Anabas testudineus   10.66    3.45       0.32\n",
       "1  Anabas testudineus    6.91    3.27       0.47\n",
       "2  Anabas testudineus    8.38    3.46       0.41\n",
       "3  Anabas testudineus    7.57    3.36       0.44\n",
       "4  Anabas testudineus   10.83    3.38       0.31"
      ]
     },
     "execution_count": 8,
     "metadata": {},
     "output_type": "execute_result"
    }
   ],
   "source": [
    "filtered_df.head()"
   ]
  },
  {
   "cell_type": "markdown",
   "id": "98d96d76-9137-41a4-9ee0-7eab7a529550",
   "metadata": {},
   "source": [
    "# Elise Webb's Work"
   ]
  },
  {
   "cell_type": "markdown",
   "id": "9dc8eb95-8ecb-4334-b0cf-db3bef5135de",
   "metadata": {},
   "source": [
    "### Sorting the fish by length from longest to shortest"
   ]
  },
  {
   "cell_type": "code",
   "execution_count": 11,
   "id": "54b1a20d-cb8b-4b07-b6cc-57d244291a58",
   "metadata": {},
   "outputs": [
    {
     "name": "stdout",
     "output_type": "stream",
     "text": [
      "                    species  length  weight  w_l_ratio\n",
      "3722  Sillaginopsis panijus   33.86    6.23       0.18\n",
      "3634  Sillaginopsis panijus   33.85    6.27       0.19\n",
      "3809  Sillaginopsis panijus   33.84    6.19       0.18\n",
      "3773  Sillaginopsis panijus   33.82    6.21       0.18\n",
      "3678  Sillaginopsis panijus   33.66    6.22       0.18\n",
      "...                     ...     ...     ...        ...\n",
      "469      Anabas testudineus    6.39    3.37       0.53\n",
      "72       Anabas testudineus    6.39    3.06       0.48\n",
      "286      Anabas testudineus    6.39    3.21       0.50\n",
      "353      Anabas testudineus    6.37    3.25       0.51\n",
      "190      Anabas testudineus    6.36    3.25       0.51\n",
      "\n",
      "[4080 rows x 4 columns]\n"
     ]
    }
   ],
   "source": [
    "length_sorted_df = df.sort_values(by='length', ascending = False)\n",
    "print(length_sorted_df)"
   ]
  },
  {
   "cell_type": "markdown",
   "id": "a261da17-75de-4c24-ad45-8c67c25eed78",
   "metadata": {},
   "source": [
    "### Sorting the fish by weight:length ratio from smallest to largest"
   ]
  },
  {
   "cell_type": "code",
   "execution_count": 13,
   "id": "b53783c5-f3e5-4249-b20a-d8b432fd1af0",
   "metadata": {},
   "outputs": [
    {
     "ename": "SyntaxError",
     "evalue": "closing parenthesis ']' does not match opening parenthesis '(' (2625920497.py, line 1)",
     "output_type": "error",
     "traceback": [
      "\u001b[0;36m  Cell \u001b[0;32mIn[13], line 1\u001b[0;36m\u001b[0m\n\u001b[0;31m    wl_sorted_df = df.sort_values(by='w_l_ratio'],ascending=True)\u001b[0m\n\u001b[0m                                                ^\u001b[0m\n\u001b[0;31mSyntaxError\u001b[0m\u001b[0;31m:\u001b[0m closing parenthesis ']' does not match opening parenthesis '('\n"
     ]
    }
   ],
   "source": [
    "wl_sorted_df = df.sort_values(by='w_l_ratio'],ascending=True)\n",
    "print(wl_sorted_df)"
   ]
  },
  {
   "cell_type": "markdown",
   "id": "59cf702b-0139-4762-b546-bf67e1b99dc0",
   "metadata": {},
   "source": [
    "### Sorting the species column descending and weight column ascending from largest to smallest"
   ]
  },
  {
   "cell_type": "code",
   "execution_count": null,
   "id": "2b14e7f7-4a05-40c3-8f3a-5668d6834345",
   "metadata": {},
   "outputs": [],
   "source": [
    "sw_sorted_df=df.sort_values(by=['species','weight'], ascending = [False, True])\n",
    "print(sw_sorted_df)"
   ]
  },
  {
   "cell_type": "markdown",
   "id": "2159a2ae-d733-452e-8893-2713c343a2a9",
   "metadata": {},
   "source": [
    "### Ranking the length column decending from longest to shortest"
   ]
  },
  {
   "cell_type": "code",
   "execution_count": null,
   "id": "79fe96a7-5fbb-4b3c-8f6a-57c44a91a6e4",
   "metadata": {},
   "outputs": [],
   "source": [
    "df_rank=df['length_rank']=df['length'].rank(ascending=False)\n",
    "print(df_rank)"
   ]
  },
  {
   "cell_type": "markdown",
   "id": "d9635131-841f-4140-8217-19bae0d8bf03",
   "metadata": {},
   "source": [
    "### Ranking the species column alphabetically"
   ]
  },
  {
   "cell_type": "code",
   "execution_count": null,
   "id": "e3733902-f6e7-47e6-aa7d-b189cd11403d",
   "metadata": {},
   "outputs": [],
   "source": [
    "df_rank=df\n",
    "df['species_rank']=df['species'].rank(ascending=False)\n",
    "print(df_rank)"
   ]
  },
  {
   "cell_type": "markdown",
   "id": "ab011252-48c5-4094-b1b7-0930805b4d0a",
   "metadata": {},
   "source": [
    "# Hailey Burnette's Work"
   ]
  },
  {
   "cell_type": "code",
   "execution_count": null,
   "id": "482095a4-1478-4d7e-889b-254832193177",
   "metadata": {},
   "outputs": [],
   "source": [
    "types_of_species = df['species'].unique()\n",
    "list_of_species_in_dataset = list(types_of_species)\n",
    "print(list_of_species_in_dataset)"
   ]
  },
  {
   "cell_type": "markdown",
   "id": "e9aa3ad1-4ea6-4e2f-86ff-35603c8bade5",
   "metadata": {},
   "source": [
    "### Finding the Mean length of the dataset using Numpy:"
   ]
  },
  {
   "cell_type": "code",
   "execution_count": null,
   "id": "ba09dede-bd52-43cb-a9af-72b16853d399",
   "metadata": {},
   "outputs": [],
   "source": [
    "mean_length = np.mean(df['length'])\n",
    "print(mean_length)"
   ]
  },
  {
   "cell_type": "markdown",
   "id": "11981999-f6e0-4bea-9af5-847daa612d9e",
   "metadata": {},
   "source": [
    "### Finding the Mean weight ratio of the dataset using Numpy:"
   ]
  },
  {
   "cell_type": "code",
   "execution_count": null,
   "id": "344d985c-403e-40f9-9bb5-9caf6e776155",
   "metadata": {},
   "outputs": [],
   "source": [
    "mean_weight = np.mean(df['weight'])\n",
    "print(mean_weight)"
   ]
  },
  {
   "cell_type": "markdown",
   "id": "cae68f9f-d9f9-4c58-9fcb-c81b7afba5d1",
   "metadata": {},
   "source": [
    "### Finding the Mean of the weight:length ratio of the dataset using Numpy:"
   ]
  },
  {
   "cell_type": "code",
   "execution_count": null,
   "id": "65e5135f-00fc-4db3-8f8b-da6b59948758",
   "metadata": {},
   "outputs": [],
   "source": [
    "mean_w_l_ratio = np.mean(df['w_l_ratio'])\n",
    "print(mean_w_l_ratio)"
   ]
  },
  {
   "cell_type": "markdown",
   "id": "cd31f4f0-8ed6-45a4-a186-92412be8ed3f",
   "metadata": {},
   "source": [
    "### Finding the Median of the length of the dataset using Numpy:"
   ]
  },
  {
   "cell_type": "code",
   "execution_count": null,
   "id": "8d5a8bd1-ce3e-480e-a9e4-f2ef8e66e56e",
   "metadata": {},
   "outputs": [],
   "source": [
    "median_length = np.median(df['length'])\n",
    "print(median_length)"
   ]
  },
  {
   "cell_type": "markdown",
   "id": "91d36568-e913-4fd3-a0fc-7919d2ccc959",
   "metadata": {},
   "source": [
    "### Finding the Median of the weight of the dataset using Numpy:"
   ]
  },
  {
   "cell_type": "code",
   "execution_count": null,
   "id": "0d7d7e55-f074-4e8c-935e-4a0c90df7e18",
   "metadata": {},
   "outputs": [],
   "source": [
    "median_weight = np.median(df['weight'])\n",
    "print(median_weight)"
   ]
  },
  {
   "cell_type": "markdown",
   "id": "04c5039b-b2d8-4c9f-bbf7-a02662b1e667",
   "metadata": {},
   "source": [
    "### Finding the Median of the weight:length ratio of the dataset using Numpy:"
   ]
  },
  {
   "cell_type": "code",
   "execution_count": null,
   "id": "62c3a9f1-b97b-45ce-9641-1ec317a906c1",
   "metadata": {},
   "outputs": [],
   "source": [
    "median_w_l_ratio = np.median(df['w_l_ratio'])\n",
    "print(median_w_l_ratio)"
   ]
  },
  {
   "cell_type": "markdown",
   "id": "d4d17b03-c988-44ad-adf1-ca479aaf583b",
   "metadata": {},
   "source": [
    "### Finding the Standard Deviation of the length of the dataset using Numpy:"
   ]
  },
  {
   "cell_type": "code",
   "execution_count": null,
   "id": "3e936a58-eea1-4f79-a0b4-3dcd6c89e4a0",
   "metadata": {},
   "outputs": [],
   "source": [
    "std_length = np.std(df['length'])\n",
    "print(std_length)"
   ]
  },
  {
   "cell_type": "markdown",
   "id": "98a4dadc-c67d-478f-a40c-f98b94cf355c",
   "metadata": {},
   "source": [
    "### Finding the  Standard Deviation of the weight of the dataset using Numpy:"
   ]
  },
  {
   "cell_type": "code",
   "execution_count": null,
   "id": "63b3faab-165c-4a52-9abb-6d74a8e6684a",
   "metadata": {},
   "outputs": [],
   "source": [
    "std_weight = np.std(df['weight'])\n",
    "print(std_weight)"
   ]
  },
  {
   "cell_type": "markdown",
   "id": "bf8fabb2-4f0b-419f-8a35-8a3519d0b9a9",
   "metadata": {},
   "source": [
    "### Finding the Standard Deviation of the weight:length ratio of the dataset using Numpy:"
   ]
  },
  {
   "cell_type": "code",
   "execution_count": null,
   "id": "9ce4a494-d8f1-4d7a-9efc-57fe64533bb9",
   "metadata": {},
   "outputs": [],
   "source": [
    "std_w_l_ratio = np.std(df['weight'])\n",
    "print(std_w_l_ratio)"
   ]
  },
  {
   "cell_type": "markdown",
   "id": "d91f339e-f1bb-41cc-9dd8-b18ade25ad81",
   "metadata": {},
   "source": [
    "### Finding the mean, median, mode and range of the weight:length ratio of the dataset using Basic Operations:"
   ]
  },
  {
   "cell_type": "code",
   "execution_count": null,
   "id": "2ebc2a46-ed21-47e0-a642-6988f1ca7c9b",
   "metadata": {},
   "outputs": [],
   "source": [
    "mean_w_l_ratio=df['w_l_ratio'].mean()\n",
    "print(f'The mean length is: {mean_w_l_ratio}.')"
   ]
  },
  {
   "cell_type": "code",
   "execution_count": null,
   "id": "3b22fedf-4052-42b7-9941-304d52f810d9",
   "metadata": {},
   "outputs": [],
   "source": [
    "median_w_l_ratio=df['w_l_ratio'].median()\n",
    "print(f'The median length is: {median_w_l_ratio}.')"
   ]
  },
  {
   "cell_type": "code",
   "execution_count": null,
   "id": "87ef10c9-967e-451f-bbb3-05ff2a7173d9",
   "metadata": {},
   "outputs": [],
   "source": [
    "mode_w_l_ratio=df['w_l_ratio'].mode()\n",
    "print(f'The median length is: {mode_w_l_ratio}.')"
   ]
  },
  {
   "cell_type": "code",
   "execution_count": null,
   "id": "86714ebc-539f-4ecb-9a30-34dccf00e0ff",
   "metadata": {},
   "outputs": [],
   "source": [
    "range_w_l_ratio = df['w_l_ratio'].max() - df['w_l_ratio'].min()\n",
    "print(f'The range of the weight length ratio is: {range_w_l_ratio}.')"
   ]
  },
  {
   "cell_type": "markdown",
   "id": "ce653fd9-6d28-49d2-b300-231c78eda794",
   "metadata": {},
   "source": [
    "### Finding the mean, median, mode and range of the length of the dataset using Basic Operations:"
   ]
  },
  {
   "cell_type": "code",
   "execution_count": null,
   "id": "ede4097f-1eb0-4521-ae31-d77b7cfdbf67",
   "metadata": {},
   "outputs": [],
   "source": [
    "meanlength=df['length'].mean()\n",
    "print(f'The mean length is: {meanlength}.')"
   ]
  },
  {
   "cell_type": "code",
   "execution_count": null,
   "id": "c7b5cc70-13f6-4161-8744-67b8ab808845",
   "metadata": {},
   "outputs": [],
   "source": [
    "medianlength=df['length'].median()\n",
    "print(f'The median length is: {medianlength}.')"
   ]
  },
  {
   "cell_type": "code",
   "execution_count": null,
   "id": "79bdf2d4-7a21-4b53-ae62-541462c92df4",
   "metadata": {},
   "outputs": [],
   "source": [
    "modelength=df['length'].mode()\n",
    "print(f'The mode length is: {modelength}.')"
   ]
  },
  {
   "cell_type": "code",
   "execution_count": null,
   "id": "52ad9296-b931-4d6e-80e5-4ab0b4c553a8",
   "metadata": {},
   "outputs": [],
   "source": [
    "rangelength = df['length'].max() - df['length'].min()\n",
    "print(f'The range of weight is: {rangelength}.')"
   ]
  },
  {
   "cell_type": "markdown",
   "id": "af7d3c0f-879f-458b-83da-e2091f688235",
   "metadata": {},
   "source": [
    "### Finding the mean, median, mode and range of the weight of the dataset using Basic Operations:"
   ]
  },
  {
   "cell_type": "code",
   "execution_count": null,
   "id": "fc6e1a9f-732c-4161-a8a6-00ebc97d6794",
   "metadata": {},
   "outputs": [],
   "source": [
    "meanweight=df['weight'].mean()\n",
    "print(f'The mean weight is: {meanweight}.')"
   ]
  },
  {
   "cell_type": "code",
   "execution_count": null,
   "id": "4989bd2c-4e0d-43bf-b3aa-20e3f23013d7",
   "metadata": {},
   "outputs": [],
   "source": [
    "medianweight=df['weight'].median()\n",
    "print(f'The median weight is: {medianweight}.')"
   ]
  },
  {
   "cell_type": "code",
   "execution_count": null,
   "id": "52ec1f53-2f46-420d-9a2c-7e96403bdd54",
   "metadata": {},
   "outputs": [],
   "source": [
    "modeweight=df['weight'].mode()\n",
    "print(f'The mode weight is: {modeweight}.')"
   ]
  },
  {
   "cell_type": "code",
   "execution_count": null,
   "id": "1d6e6f95-da02-4415-a1b0-7f2b41a324c8",
   "metadata": {},
   "outputs": [],
   "source": [
    "rangeweight = df['weight'].max() - df['weight'].min()\n",
    "print(f'The range of weight is: {rangeweight}.')"
   ]
  },
  {
   "cell_type": "markdown",
   "id": "f29a2854-3706-4f83-a0d8-b20b9e898365",
   "metadata": {},
   "source": [
    "### Finding the mean weight per species to indentify the heaviest and lightest fish of the dataset:"
   ]
  },
  {
   "cell_type": "code",
   "execution_count": null,
   "id": "437dc17f-f00b-4a4a-8ead-52c376ef95b4",
   "metadata": {},
   "outputs": [],
   "source": [
    "mean_weight_per_species = df.groupby('species')['weight'].mean()\n",
    "print(mean_weight_per_species)"
   ]
  },
  {
   "cell_type": "markdown",
   "id": "59979c58-fc0d-4292-aa4b-c8930efab8be",
   "metadata": {},
   "source": [
    "### Finding the mean weight:length ratio per species to indentify the skinniest and stoutest fish of the dataset:"
   ]
  },
  {
   "cell_type": "code",
   "execution_count": null,
   "id": "aceefac3-4e10-4545-a6ba-8927badc35fb",
   "metadata": {},
   "outputs": [],
   "source": [
    "mean_w_l_ratio_per_species = df.groupby('species')['w_l_ratio'].mean()\n",
    "print(mean_w_l_ratio_per_species)"
   ]
  },
  {
   "cell_type": "markdown",
   "id": "3031daf0-d316-4e0e-bd8c-8e50d1edc0b6",
   "metadata": {},
   "source": [
    "### Finding the mean length per species to identify the longest and shortest fish of the dataset:"
   ]
  },
  {
   "cell_type": "code",
   "execution_count": null,
   "id": "476dc7c8-2c9e-47cf-86ef-356bec6c4a39",
   "metadata": {},
   "outputs": [],
   "source": [
    "mean_length_per_species = df.groupby('species')['length'].mean()\n",
    "print(mean_length_per_species)"
   ]
  },
  {
   "cell_type": "code",
   "execution_count": null,
   "id": "d1a58bc1-abc2-4af7-93da-7bec5d2f2297",
   "metadata": {},
   "outputs": [],
   "source": [
    "median_length_per_species = df.groupby('species')['length'].median()\n",
    "print(median_length_per_species)"
   ]
  },
  {
   "cell_type": "markdown",
   "id": "7a61d44c-aefb-4907-afa1-4774924a54c7",
   "metadata": {},
   "source": [
    "### Data visualization:"
   ]
  },
  {
   "cell_type": "code",
   "execution_count": null,
   "id": "40897630-774e-4095-8e17-523dd5c22052",
   "metadata": {},
   "outputs": [],
   "source": [
    "import matplotlib.pyplot as plt"
   ]
  },
  {
   "cell_type": "code",
   "execution_count": null,
   "id": "5adcf451-3675-45f7-8f8f-01ca4d9f6676",
   "metadata": {},
   "outputs": [],
   "source": [
    "mean_weight_per_species = df.groupby('species')['weight'].mean().reset_index()"
   ]
  },
  {
   "cell_type": "code",
   "execution_count": null,
   "id": "0a241c86-e21c-40e6-bcbb-d5df77506afb",
   "metadata": {},
   "outputs": [],
   "source": [
    "plt.bar(mean_weight_per_species['species'], mean_weight_per_species['weight'], edgecolor='black')\n",
    "plt.xticks(rotation=90)\n",
    "plt.xlabel('Species')\n",
    "plt.ylabel('Average Weight in Grams')\n",
    "plt.title('Average Weight per Fish Species')\n",
    "plt.show()"
   ]
  },
  {
   "cell_type": "code",
   "execution_count": null,
   "id": "a8dce655-3336-4c92-aeec-eb896ef3b189",
   "metadata": {},
   "outputs": [],
   "source": [
    "mean_length_per_species = df.groupby('species')['length'].mean().reset_index()"
   ]
  },
  {
   "cell_type": "code",
   "execution_count": null,
   "id": "276c341b-71fa-47cb-ad6f-ad87713b36e9",
   "metadata": {},
   "outputs": [],
   "source": [
    "plt.bar(mean_length_per_species['species'], mean_length_per_species['length'], edgecolor='black')\n",
    "plt.xticks(rotation=90)\n",
    "plt.xlabel('Species')\n",
    "plt.ylabel('Average Length in Centimeters')\n",
    "plt.title('Average Length per Fish Species')\n",
    "plt.show()"
   ]
  },
  {
   "cell_type": "code",
   "execution_count": null,
   "id": "e0314fad-4e4e-43d0-b1c3-cce247960745",
   "metadata": {},
   "outputs": [],
   "source": [
    "mean_weight_length_ratio_per_species = df.groupby('species')['w_l_ratio'].mean().reset_index()"
   ]
  },
  {
   "cell_type": "code",
   "execution_count": null,
   "id": "c27017ac-c899-4999-881f-f16f2822fe5f",
   "metadata": {},
   "outputs": [],
   "source": [
    "plt.bar(mean_weight_length_ratio_per_species['species'], mean_weight_length_ratio_per_species['w_l_ratio'], edgecolor='black')\n",
    "plt.xticks(rotation=90)\n",
    "plt.xlabel('Species')\n",
    "plt.ylabel('Average Weight:Length Ratio')\n",
    "plt.title('Average Weight:Length Ratio per Fish Species')\n",
    "plt.show()"
   ]
  }
 ],
 "metadata": {
  "kernelspec": {
   "display_name": "Python 3 (ipykernel)",
   "language": "python",
   "name": "python3"
  },
  "language_info": {
   "codemirror_mode": {
    "name": "ipython",
    "version": 3
   },
   "file_extension": ".py",
   "mimetype": "text/x-python",
   "name": "python",
   "nbconvert_exporter": "python",
   "pygments_lexer": "ipython3",
   "version": "3.12.4"
  }
 },
 "nbformat": 4,
 "nbformat_minor": 5
}
